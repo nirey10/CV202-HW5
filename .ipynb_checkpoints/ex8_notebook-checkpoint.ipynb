{
 "cells": [
  {
   "cell_type": "markdown",
   "metadata": {},
   "source": [
    "## Imports"
   ]
  },
  {
   "cell_type": "code",
   "execution_count": 1,
   "metadata": {},
   "outputs": [],
   "source": [
    "import numpy as np\n",
    "from ex7 import get_T_arrays, calc_p, backward_sample, convert_y_to_image\n",
    "import time"
   ]
  },
  {
   "cell_type": "markdown",
   "metadata": {},
   "source": [
    "## Helper Function"
   ]
  },
  {
   "cell_type": "code",
   "execution_count": 2,
   "metadata": {},
   "outputs": [],
   "source": [
    "# Computer Exercise 8\n",
    "def compute_empirical_expectation(i1, j1, i2, j2, samples):\n",
    "    normalizing_factor = len(samples)\n",
    "    sum = 0\n",
    "    for sample in samples:\n",
    "        sum += sample[i1][j1] * sample[i2][j2]\n",
    "    return sum/normalizing_factor"
   ]
  },
  {
   "cell_type": "markdown",
   "metadata": {},
   "source": [
    "## Setup Variables"
   ]
  },
  {
   "cell_type": "code",
   "execution_count": 3,
   "metadata": {},
   "outputs": [],
   "source": [
    "lattice_size = 8\n",
    "\n",
    "Temps = [1.0, 1.5, 2.0]\n",
    "NSAMPLES = 10000"
   ]
  },
  {
   "cell_type": "markdown",
   "metadata": {},
   "source": [
    "## Calculate T's & p's\n",
    "Takes about 45 seconds for each *Temp*!"
   ]
  },
  {
   "cell_type": "code",
   "execution_count": 11,
   "metadata": {},
   "outputs": [
    {
     "name": "stdout",
     "output_type": "stream",
     "text": [
      "Temp = 1.0\n",
      "Getting T:\n",
      "Done (25.7 secs).\n",
      "Getting P:\n",
      "Done (23.29 secs).\n",
      "Temp = 1.5\n",
      "Getting T:\n",
      "Done (25.79 secs).\n",
      "Getting P:\n",
      "Done (22.36 secs).\n",
      "Temp = 2.0\n",
      "Getting T:\n",
      "Done (25.53 secs).\n",
      "Getting P:\n",
      "Done (22.63 secs).\n"
     ]
    }
   ],
   "source": [
    "Ts = []\n",
    "ps = []\n",
    "for i, Temp in enumerate(Temps):\n",
    "    print(\"Temp = \" + str(Temp))\n",
    "    Ts.append(get_T_arrays(lattice_size, Temp))\n",
    "    ZTemp = Ts[i][-1]\n",
    "    ps.append(calc_p(ZTemp, Ts[i], lattice_size, Temp))"
   ]
  },
  {
   "cell_type": "markdown",
   "metadata": {},
   "source": [
    "## Get Samples"
   ]
  },
  {
   "cell_type": "code",
   "execution_count": 12,
   "metadata": {},
   "outputs": [
    {
     "name": "stdout",
     "output_type": "stream",
     "text": [
      "Temp = 1.0\n",
      "Sampling:\n",
      "Done (3.02 secs).\n",
      "Temp = 1.5\n",
      "Sampling:\n",
      "Done (3.05 secs).\n",
      "Temp = 2.0\n",
      "Sampling:\n",
      "Done (3.18 secs).\n"
     ]
    }
   ],
   "source": [
    "xs = []\n",
    "for i, Temp in enumerate(Temps):\n",
    "    print(\"Temp = \" + str(Temp))\n",
    "    print(\"Sampling:\")\n",
    "    s = time.time()\n",
    "    x = [[]] * NSAMPLES\n",
    "    for n in range(NSAMPLES):\n",
    "        sample = backward_sample(ps[i], lattice_size)\n",
    "        x[n] = convert_y_to_image(sample, lattice_size)\n",
    "    e = time.time()\n",
    "    xs.append(x)\n",
    "    print(\"Done (\" + str(round(e - s, 2)) + \" secs).\")"
   ]
  },
  {
   "cell_type": "markdown",
   "metadata": {},
   "source": [
    "## Calculate Empirical Expectations"
   ]
  },
  {
   "cell_type": "code",
   "execution_count": 13,
   "metadata": {},
   "outputs": [
    {
     "name": "stdout",
     "output_type": "stream",
     "text": [
      "Temp = 1.0\n",
      "Empirical Expectation 1:\n",
      "0.9542\n",
      "Empirical Expectation 2:\n",
      "0.903\n",
      "---------------\n",
      "Temp = 1.5\n",
      "Empirical Expectation 1:\n",
      "0.7672\n",
      "Empirical Expectation 2:\n",
      "0.5414\n",
      "---------------\n",
      "Temp = 2.0\n",
      "Empirical Expectation 1:\n",
      "0.5194\n",
      "Empirical Expectation 2:\n",
      "0.1084\n",
      "---------------\n"
     ]
    }
   ],
   "source": [
    "for i, Temp in enumerate(Temps):\n",
    "    print(\"Temp = \" + str(Temp))\n",
    "    print(\"Empirical Expectation 1:\")\n",
    "    E1 = compute_empirical_expectation(0, 0, 1, 1, xs[i])\n",
    "    print(E1)\n",
    "    print(\"Empirical Expectation 2:\")\n",
    "    E2 = compute_empirical_expectation(0, 0, lattice_size-1, lattice_size-1, xs[i])\n",
    "    print(E2)\n",
    "    print(\"---------------\")"
   ]
  }
 ],
 "metadata": {
  "kernelspec": {
   "display_name": "Python 3",
   "language": "python",
   "name": "python3"
  },
  "language_info": {
   "codemirror_mode": {
    "name": "ipython",
    "version": 3
   },
   "file_extension": ".py",
   "mimetype": "text/x-python",
   "name": "python",
   "nbconvert_exporter": "python",
   "pygments_lexer": "ipython3",
   "version": "3.7.6"
  }
 },
 "nbformat": 4,
 "nbformat_minor": 4
}
