{
 "cells": [
  {
   "cell_type": "markdown",
   "metadata": {},
   "source": [
    "## Imports"
   ]
  },
  {
   "cell_type": "code",
   "execution_count": 1,
   "metadata": {},
   "outputs": [],
   "source": [
    "import numpy as np\n",
    "import matplotlib.pyplot as plt\n",
    "from ex1 import G\n",
    "from ex2 import F\n",
    "from ex5 import y2row\n",
    "import time"
   ]
  },
  {
   "cell_type": "markdown",
   "metadata": {},
   "source": [
    "## Helper Functions"
   ]
  },
  {
   "cell_type": "code",
   "execution_count": 2,
   "metadata": {},
   "outputs": [],
   "source": [
    "def get_T_arrays(lattice_size, Temp):\n",
    "    print(\"Getting T:\")\n",
    "    s = time.time()\n",
    "    T_arrays = [[]] * lattice_size\n",
    "    prev_T = [1] * pow(2, lattice_size)  # T_0\n",
    "    for k in range(lattice_size-1):\n",
    "        curr_T = calc_T(lattice_size, Temp, prev_T)\n",
    "        T_arrays[k] = curr_T\n",
    "        # print('T' + str(k+1) + ': ' + str(curr_T))\n",
    "        prev_T = curr_T\n",
    "\n",
    "    # Printing the last T, the normalizing factor Z_temp\n",
    "    T_arrays[lattice_size - 1] = 0\n",
    "    for y_last in range(pow(2, lattice_size)):\n",
    "        y_last_vector = y2row(y_last, width=lattice_size)\n",
    "        T_arrays[lattice_size-1] += curr_T[y_last] * G(y_last_vector, Temp)\n",
    "\n",
    "    e = time.time()\n",
    "    print(\"Done (\" + str(round(e - s, 2)) + \" secs).\")\n",
    "    return T_arrays\n",
    "\n",
    "\n",
    "def calc_T(lattice_size, Temp, prev_T):\n",
    "    T_vec = [0]*pow(2, lattice_size)\n",
    "    res = 0\n",
    "    for y2 in range(pow(2, lattice_size)):\n",
    "        temp_sum = 0\n",
    "        for y1 in range(pow(2, lattice_size)):\n",
    "            y1_vector = y2row(y1, width=lattice_size)\n",
    "            y2_vector = y2row(y2, width=lattice_size)\n",
    "            temp_sum += G(y1_vector, Temp) * F(y1_vector, y2_vector, Temp)*prev_T[y1]\n",
    "            # res += temp_res\n",
    "        T_vec[y2] = temp_sum\n",
    "    return T_vec\n",
    "\n",
    "\n",
    "def get_p_k(k, ZTemp, T, lattice_size, Temp):\n",
    "    k -= 1  # converting to array indexes (was in range 1,..,lattice_size)\n",
    "    if k == lattice_size-1:  # for p_last(y_last)\n",
    "        res_matrix = np.ndarray((2**lattice_size , 1), dtype=float)\n",
    "        # res_matrix = [0] * pow(2, lattice_size)\n",
    "        for y_last in range(pow(2, lattice_size)):\n",
    "            y_last_vector = y2row(y_last, width=lattice_size)\n",
    "            res_matrix[y_last] = (T[lattice_size-2][y_last] * G(y_last_vector, Temp)) / ZTemp\n",
    "        return res_matrix\n",
    "    elif k == 0:  # p_(1|2)(y1|y2)\n",
    "        # res_matrix = [[0] * pow(2, lattice_size)] * pow(2, lattice_size)\n",
    "        res_matrix = np.ndarray((2**lattice_size, 2**lattice_size), dtype=float)\n",
    "        for y1 in range(pow(2, lattice_size)):\n",
    "            y1_vector = y2row(y1, width=lattice_size)\n",
    "            for y2 in range(pow(2, lattice_size)):\n",
    "                y2_vector = y2row(y2, width=lattice_size)\n",
    "                res_matrix[y1][y2] = (F(y1_vector, y2_vector, Temp) * G(y1_vector, Temp)) / T[0][y2]\n",
    "        return res_matrix\n",
    "    else:\n",
    "        # res_matrix = [[0] * pow(2, lattice_size)] * pow(2, lattice_size)\n",
    "        res_matrix = np.ndarray((2 ** lattice_size, 2 ** lattice_size), dtype=float)\n",
    "        for y_k in range(pow(2, lattice_size)):\n",
    "            y_k_vector = y2row(y_k, width=lattice_size)\n",
    "            for y_kplus1 in range(pow(2, lattice_size)):\n",
    "                y_kplus1_vector = y2row(y_kplus1, width=lattice_size)\n",
    "                res_matrix[y_k][y_kplus1] = (F(y_k_vector, y_kplus1_vector, Temp) * G(y_k_vector, Temp) * T[k-1][y_k]) / T[k][y_kplus1]\n",
    "        return res_matrix\n",
    "\n",
    "\n",
    "def calc_p(ZTemp, T, lattice_size, Temp):\n",
    "    print(\"Getting P:\")\n",
    "    s = time.time()\n",
    "    p = []\n",
    "    for k in range(1, lattice_size+1):\n",
    "        p.append(get_p_k(k, ZTemp, T, lattice_size, Temp))\n",
    "    e = time.time()\n",
    "    print(\"Done (\" + str(round(e - s, 2)) + \" secs).\")\n",
    "    return p\n",
    "\n",
    "\n",
    "def backward_sample(p, lattice_size):\n",
    "    y = [0]*lattice_size\n",
    "    y[lattice_size-1] = np.random.choice(pow(2, lattice_size), p=p[lattice_size-1][:, 0])\n",
    "    k = lattice_size - 2\n",
    "    while k >= 0:\n",
    "        y[k] = np.random.choice(pow(2, lattice_size), p=p[k][:, y[k+1]])\n",
    "        k -= 1\n",
    "    # for k in range(lattice_size-1):\n",
    "    #     prev_y = y_arr[lattice_size - k - 1]\n",
    "    #     new_rand = np.random.choice(pow(2, lattice_size), p=p[lattice_size - k - 1][prev_y])\n",
    "    #     y_arr[lattice_size-i - 2] = new_rand[0]\n",
    "    return y\n",
    "\n",
    "\n",
    "def convert_y_to_image(y, lattice_size):\n",
    "    # image = [[]*lattice_size]*lattice_size\n",
    "    image = np.ndarray((lattice_size, lattice_size))\n",
    "    index = 0\n",
    "    for i in range(len(y)):\n",
    "        # row_values = [int(i) for i in list('{0:0b}'.format(row))]\n",
    "        row = y2row(y[i], width=lattice_size)\n",
    "        for j in range(len(row)):\n",
    "            if row[j] == 0:\n",
    "                row[j] = -1\n",
    "        # missing_zeros = lattice_size - len(row_values)\n",
    "        # padded_row_values = np.pad(row_values, (missing_zeros, 0), 'constant')\n",
    "        # image[index] = padded_row_values\n",
    "        # index += 1\n",
    "        image[i] = row\n",
    "    # np_image = np.array([arr for arr in image])\n",
    "    return image"
   ]
  },
  {
   "cell_type": "markdown",
   "metadata": {},
   "source": [
    "## Setup Variables"
   ]
  },
  {
   "cell_type": "code",
   "execution_count": 3,
   "metadata": {},
   "outputs": [],
   "source": [
    "lattice_size = 3\n",
    "\n",
    "Temps = [1.0, 1.5, 2.0]\n",
    "NSAMPLES = 10"
   ]
  },
  {
   "cell_type": "markdown",
   "metadata": {},
   "source": [
    "## Calculate T's & p's\n",
    "Takes about 45 seconds for each *Temp*!"
   ]
  },
  {
   "cell_type": "code",
   "execution_count": 4,
   "metadata": {},
   "outputs": [
    {
     "name": "stdout",
     "output_type": "stream",
     "text": [
      "Temp = 1.0\n",
      "Getting T:\n",
      "Done (0.01 secs).\n",
      "Getting P:\n",
      "Done (0.01 secs).\n",
      "Temp = 1.5\n",
      "Getting T:\n",
      "Done (0.01 secs).\n",
      "Getting P:\n",
      "Done (0.01 secs).\n",
      "Temp = 2.0\n",
      "Getting T:\n",
      "Done (0.01 secs).\n",
      "Getting P:\n",
      "Done (0.01 secs).\n"
     ]
    }
   ],
   "source": [
    "Ts = []\n",
    "ps = []\n",
    "for i, Temp in enumerate(Temps):\n",
    "    print(\"Temp = \" + str(Temp))\n",
    "    Ts.append(get_T_arrays(lattice_size, Temp))\n",
    "    ZTemp = Ts[i][-1]\n",
    "    ps.append(calc_p(ZTemp, Ts[i], lattice_size, Temp))"
   ]
  },
  {
   "cell_type": "code",
   "execution_count": 9,
   "metadata": {},
   "outputs": [
    {
     "name": "stdout",
     "output_type": "stream",
     "text": [
      "[0.67198228 0.32195713 0.36225269 0.11844141 0.32195713 0.13326532\n",
      " 0.11844141 0.03345603]\n"
     ]
    }
   ],
   "source": [
    "print(ps[2][0][0])"
   ]
  },
  {
   "cell_type": "markdown",
   "metadata": {},
   "source": [
    "## Sample & Plot"
   ]
  },
  {
   "cell_type": "code",
   "execution_count": 10,
   "metadata": {},
   "outputs": [
    {
     "name": "stdout",
     "output_type": "stream",
     "text": [
      "Temp = 1.0\n",
      "Sampling:\n",
      "Done (0.01 secs).\n",
      "---------------\n",
      "Temp = 1.5\n",
      "Sampling:\n",
      "Done (0.01 secs).\n",
      "---------------\n",
      "Temp = 2.0\n",
      "Sampling:\n",
      "Done (0.01 secs).\n",
      "---------------\n"
     ]
    },
    {
     "data": {
      "image/png": "[encoded data removed]",
      "text/plain": [
       "<Figure size 1152x432 with 31 Axes>"
      ]
     },
     "metadata": {
      "needs_background": "light"
     },
     "output_type": "display_data"
    }
   ],
   "source": [
    "fig, ax = plt.subplots(len(Temps), NSAMPLES, figsize=(16, 6))\n",
    "for i, Temp in enumerate(Temps):\n",
    "    print(\"Temp = \" + str(Temp))\n",
    "    print(\"Sampling:\")\n",
    "    s = time.time()\n",
    "    for n in range(NSAMPLES):\n",
    "        y = backward_sample(ps[i], lattice_size)\n",
    "        y_image = convert_y_to_image(y, lattice_size)\n",
    "        t = ax[i, n].imshow(y_image, interpolation=\"None\", vmin=-1, vmax=1, cmap=\"gray\")\n",
    "        ax[i, n].set_xticks([]), ax[i, n].set_yticks([])\n",
    "    e = time.time()\n",
    "    print(\"Done (\" + str(round(e - s, 2)) + \" secs).\")\n",
    "    print(\"---------------\")\n",
    "fig.colorbar(t, ax=ax.ravel().tolist())\n",
    "plt.show()"
   ]
  },
  {
   "cell_type": "code",
   "execution_count": null,
   "metadata": {},
   "outputs": [],
   "source": []
  }
 ],
 "metadata": {
  "kernelspec": {
   "display_name": "Python 3",
   "language": "python",
   "name": "python3"
  },
  "language_info": {
   "codemirror_mode": {
    "name": "ipython",
    "version": 3
   },
   "file_extension": ".py",
   "mimetype": "text/x-python",
   "name": "python",
   "nbconvert_exporter": "python",
   "pygments_lexer": "ipython3",
   "version": "3.7.6"
  }
 },
 "nbformat": 4,
 "nbformat_minor": 4
}
